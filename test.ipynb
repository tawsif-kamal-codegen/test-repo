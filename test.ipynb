{
 "cells": [
  {
   "cell_type": "code",
   "execution_count": 1,
   "metadata": {},
   "outputs": [],
   "source": [
    "%load_ext autoreload\n",
    "%autoreload 2\n",
    "%reload_ext autoreload"
   ]
  },
  {
   "cell_type": "code",
   "execution_count": 4,
   "metadata": {},
   "outputs": [],
   "source": [
    "from graph_sitter import Codebase\n"
   ]
  },
  {
   "cell_type": "code",
   "execution_count": 96,
   "metadata": {},
   "outputs": [
    {
     "data": {
      "text/plain": [
       "[PyFile(name='animal_functions', filepath='animal_functions.py', file_path='animal_functions.py', end_byte=533),\n",
       " PyFile(name='main', filepath='main.py', file_path='main.py'),\n",
       " PyFile(name='test', filepath='test.py', file_path='test.py')]"
      ]
     },
     "execution_count": 96,
     "metadata": {},
     "output_type": "execute_result"
    }
   ],
   "source": [
    "codebase.files"
   ]
  },
  {
   "cell_type": "code",
   "execution_count": 68,
   "metadata": {},
   "outputs": [],
   "source": [
    "codebase.get_function(\"make_animal_sound\").parameters[0].rename(\"big_dawgs\")"
   ]
  },
  {
   "cell_type": "code",
   "execution_count": 58,
   "metadata": {},
   "outputs": [],
   "source": [
    "from graph_sitter.codebase.config import GSFeatureFlags\n",
    "feature_flags = GSFeatureFlags(sync_enabled=True)"
   ]
  },
  {
   "cell_type": "code",
   "execution_count": 59,
   "metadata": {},
   "outputs": [
    {
     "name": "stdout",
     "output_type": "stream",
     "text": [
      "🔍 Codebase Analysis\n",
      "==================================================\n",
      "📚 Total Classes: 0\n",
      "⚡ Total Functions: 4\n",
      "🔄 Total Imports: 3\n"
     ]
    }
   ],
   "source": [
    "# Print overall stats\n",
    "print(\"🔍 Codebase Analysis\")\n",
    "print(\"=\" * 50)\n",
    "print(f\"📚 Total Classes: {len(codebase.classes)}\")\n",
    "print(f\"⚡ Total Functions: {len(codebase.functions)}\")\n",
    "print(f\"🔄 Total Imports: {len(codebase.imports)}\")\n",
    "\n",
    "# Find class with most inheritance'\n",
    "if codebase.classes:\n",
    "    deepest_class = max(codebase.classes, key=lambda x: len(x.superclasses))\n",
    "    print(f\"\\n🌳 Class with most inheritance: {deepest_class.name}\")\n",
    "    print(f\"   📊 Chain Depth: {len(deepest_class.superclasses)}\")\n",
    "    print(f\"   ⛓️ Chain: {' -> '.join(s.name for s in deepest_class.superclasses)}\")\n",
    "\n",
    "# Find first 5 recursive functions\n",
    "recursive = [f for f in codebase.functions\n",
    "            if any(call.name == f.name for call in f.function_calls)][:5]\n",
    "\n",
    "recursive and print(f\"\\n🔄 Recursive functions:\")\n",
    "for func in recursive:\n",
    "    print(f\"  - {func.name}\")\n"
   ]
  },
  {
   "cell_type": "code",
   "execution_count": 98,
   "metadata": {},
   "outputs": [],
   "source": [
    "codebase = Codebase(\"./\")"
   ]
  },
  {
   "cell_type": "code",
   "execution_count": 99,
   "metadata": {},
   "outputs": [
    {
     "name": "stdout",
     "output_type": "stream",
     "text": [
      "All imports before:\n",
      "from animal_functions import make_animal_sound, get_animal_legs, describe_animal\n",
      "from animal_functions import make_animal_sound, get_animal_legs, describe_animal\n",
      "from animal_functions import make_animal_sound, get_animal_legs, describe_animal\n",
      "from math import abs\n",
      "import math\n",
      "from os.path import join\n",
      "import sys\n",
      "\n",
      "\n"
     ]
    }
   ],
   "source": [
    "# Utility function for migrating imports\n",
    "def migrate_import(_import, target: str, new: str) -> None:\n",
    "    if _import.module == target:\n",
    "        print(f'Before: {_import.source}')\n",
    "        _import.set_import_module(new)\n",
    "        print(f'After:  {_import.source}\\n')\n",
    "\n",
    "# Print all imports before\n",
    "print(\"All imports before:\")\n",
    "for imp in codebase.imports:\n",
    "    print(imp.source)\n",
    "print(\"\\n\")"
   ]
  },
  {
   "cell_type": "code",
   "execution_count": 101,
   "metadata": {},
   "outputs": [
    {
     "name": "stdout",
     "output_type": "stream",
     "text": [
      "Testing migrations:\n",
      "Before: from math import abs\n",
      "After:  from math import abs\n",
      "\n",
      "Before: import math\n",
      "After:  import math\n",
      "\n",
      "Before: from os.path import join\n",
      "After:  from os.path import join\n",
      "\n"
     ]
    },
    {
     "data": {
      "text/html": [
       "<pre style=\"white-space:pre;overflow-x:auto;line-height:normal;font-family:Menlo,'DejaVu Sans Mono',consolas,'Courier New',monospace\">Warning: using a method that may break codemod execution. This is unnessecary in most cases. You should use this only if you are certian it's nessecary\n",
       "</pre>\n"
      ],
      "text/plain": [
       "Warning: using a method that may break codemod execution. This is unnessecary in most cases. You should use this only if you are certian it's nessecary\n"
      ]
     },
     "metadata": {},
     "output_type": "display_data"
    },
    {
     "name": "stdout",
     "output_type": "stream",
     "text": [
      "All imports after:\n",
      "from animal_functions import make_animal_sound, get_animal_legs, describe_animal\n",
      "from animal_functions import make_animal_sound, get_animal_legs, describe_animal\n",
      "from animal_functions import make_animal_sound, get_animal_legs, describe_animal\n",
      "from math import abs\n",
      "import math\n",
      "from os.path import join\n",
      "import sys\n"
     ]
    }
   ],
   "source": [
    "# Test migration with and without quotes\n",
    "print(\"Testing migrations:\")\n",
    "for imp in codebase.imports:\n",
    "    # Test without quotes\n",
    "    migrate_import(imp, \"math\", \"math_replacement\")\n",
    "    \n",
    "    # Test with quotes\n",
    "    migrate_import(imp, \"os.path\", \"'path.utils'\")\n",
    "\n",
    "# Commit the changes\n",
    "codebase.commit()\n",
    "\n",
    "# Print final state\n",
    "print(\"All imports after:\")\n",
    "for imp in codebase.imports:\n",
    "    print(imp.source)\n"
   ]
  },
  {
   "cell_type": "code",
   "execution_count": 120,
   "metadata": {},
   "outputs": [],
   "source": [
    "codebase.imports[3].module # okay so it will KEEP the import reserved word but it will change the module name? \n",
    "codebase.imports[3].module.source = \"math_replacement\"\n",
    "\n",
    "# codebase.commit()\n",
    "# codebase.imports[3].module.source"
   ]
  },
  {
   "cell_type": "code",
   "execution_count": 125,
   "metadata": {},
   "outputs": [
    {
     "name": "stdout",
     "output_type": "stream",
     "text": [
      "\n"
     ]
    }
   ],
   "source": [
    "print(codebase.G.transaction_manager.get_transactions_str())"
   ]
  },
  {
   "cell_type": "code",
   "execution_count": 124,
   "metadata": {},
   "outputs": [
    {
     "data": {
      "text/html": [
       "<pre style=\"white-space:pre;overflow-x:auto;line-height:normal;font-family:Menlo,'DejaVu Sans Mono',consolas,'Courier New',monospace\">Warning: using a method that may break codemod execution. This is unnessecary in most cases. You should use this only if you are certian it's nessecary\n",
       "</pre>\n"
      ],
      "text/plain": [
       "Warning: using a method that may break codemod execution. This is unnessecary in most cases. You should use this only if you are certian it's nessecary\n"
      ]
     },
     "metadata": {},
     "output_type": "display_data"
    },
    {
     "name": "stdout",
     "output_type": "stream",
     "text": [
      "sys\n"
     ]
    }
   ],
   "source": [
    "# After commit, shows new value\n",
    "codebase.commit()\n",
    "print(imp.module.source)  # Shows 'math_replacement'\n"
   ]
  },
  {
   "cell_type": "code",
   "execution_count": 5,
   "metadata": {},
   "outputs": [
    {
     "name": "stderr",
     "output_type": "stream",
     "text": [
      "Error getting commit head Reference at 'refs/heads/main' does not exist\n"
     ]
    }
   ],
   "source": [
    "codebase = Codebase(\"./typescript-testing\")"
   ]
  }
 ],
 "metadata": {
  "kernelspec": {
   "display_name": ".venv",
   "language": "python",
   "name": "python3"
  },
  "language_info": {
   "codemirror_mode": {
    "name": "ipython",
    "version": 3
   },
   "file_extension": ".py",
   "mimetype": "text/x-python",
   "name": "python",
   "nbconvert_exporter": "python",
   "pygments_lexer": "ipython3",
   "version": "3.13.0"
  }
 },
 "nbformat": 4,
 "nbformat_minor": 2
}
